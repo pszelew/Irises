{
 "cells": [
  {
   "cell_type": "markdown",
   "metadata": {},
   "source": [
    "The data set contains 3 classes of 50 instances each, where each class refers to a type of iris plant. One class is linearly separable from the other 2; the latter are NOT linearly separable from each other\n",
    "\n",
    "\n",
    "Wczytanie danych przy pomocy \"pandas\""
   ]
  },
  {
   "cell_type": "code",
   "execution_count": 1,
   "metadata": {},
   "outputs": [
    {
     "data": {
      "text/html": [
       "<div>\n",
       "<style scoped>\n",
       "    .dataframe tbody tr th:only-of-type {\n",
       "        vertical-align: middle;\n",
       "    }\n",
       "\n",
       "    .dataframe tbody tr th {\n",
       "        vertical-align: top;\n",
       "    }\n",
       "\n",
       "    .dataframe thead th {\n",
       "        text-align: right;\n",
       "    }\n",
       "</style>\n",
       "<table border=\"1\" class=\"dataframe\">\n",
       "  <thead>\n",
       "    <tr style=\"text-align: right;\">\n",
       "      <th></th>\n",
       "      <th>Sepal Length</th>\n",
       "      <th>Sepal Width</th>\n",
       "      <th>Petal Length</th>\n",
       "      <th>Petal Width</th>\n",
       "      <th>Class</th>\n",
       "    </tr>\n",
       "  </thead>\n",
       "  <tbody>\n",
       "    <tr>\n",
       "      <th>0</th>\n",
       "      <td>5.1</td>\n",
       "      <td>3.5</td>\n",
       "      <td>1.4</td>\n",
       "      <td>0.2</td>\n",
       "      <td>Iris-setosa</td>\n",
       "    </tr>\n",
       "    <tr>\n",
       "      <th>1</th>\n",
       "      <td>4.9</td>\n",
       "      <td>3.0</td>\n",
       "      <td>1.4</td>\n",
       "      <td>0.2</td>\n",
       "      <td>Iris-setosa</td>\n",
       "    </tr>\n",
       "    <tr>\n",
       "      <th>2</th>\n",
       "      <td>4.7</td>\n",
       "      <td>3.2</td>\n",
       "      <td>1.3</td>\n",
       "      <td>0.2</td>\n",
       "      <td>Iris-setosa</td>\n",
       "    </tr>\n",
       "    <tr>\n",
       "      <th>3</th>\n",
       "      <td>4.6</td>\n",
       "      <td>3.1</td>\n",
       "      <td>1.5</td>\n",
       "      <td>0.2</td>\n",
       "      <td>Iris-setosa</td>\n",
       "    </tr>\n",
       "    <tr>\n",
       "      <th>4</th>\n",
       "      <td>5.0</td>\n",
       "      <td>3.6</td>\n",
       "      <td>1.4</td>\n",
       "      <td>0.2</td>\n",
       "      <td>Iris-setosa</td>\n",
       "    </tr>\n",
       "  </tbody>\n",
       "</table>\n",
       "</div>"
      ],
      "text/plain": [
       "   Sepal Length  Sepal Width  Petal Length  Petal Width        Class\n",
       "0           5.1          3.5           1.4          0.2  Iris-setosa\n",
       "1           4.9          3.0           1.4          0.2  Iris-setosa\n",
       "2           4.7          3.2           1.3          0.2  Iris-setosa\n",
       "3           4.6          3.1           1.5          0.2  Iris-setosa\n",
       "4           5.0          3.6           1.4          0.2  Iris-setosa"
      ]
     },
     "execution_count": 1,
     "metadata": {},
     "output_type": "execute_result"
    }
   ],
   "source": [
    "import pandas as pd\n",
    "import matplotlib.pyplot as plt\n",
    "import numpy as np\n",
    "#nazwy kolumn w naszym data_secie\n",
    "columns = [\"Sepal Length\", \"Sepal Width\",\n",
    "           \"Petal Length\", \"Petal Width\",\n",
    "           \"Class\"]\n",
    "#źródło naszych danych\n",
    "src = \"https://archive.ics.uci.edu/ml/machine-learning-databases/iris/iris.data\"\n",
    "#wczytanie danych za pomocą pandy\n",
    "\n",
    "iris_data = pd.read_csv(src, header=None, names=columns)\n",
    "iris_data.head()"
   ]
  },
  {
   "cell_type": "code",
   "execution_count": 2,
   "metadata": {},
   "outputs": [
    {
     "name": "stdout",
     "output_type": "stream",
     "text": [
      "     Sepal Length  Sepal Width  Petal Length  Petal Width\n",
      "0             5.1          3.5           1.4          0.2\n",
      "1             4.9          3.0           1.4          0.2\n",
      "2             4.7          3.2           1.3          0.2\n",
      "3             4.6          3.1           1.5          0.2\n",
      "4             5.0          3.6           1.4          0.2\n",
      "..            ...          ...           ...          ...\n",
      "145           6.7          3.0           5.2          2.3\n",
      "146           6.3          2.5           5.0          1.9\n",
      "147           6.5          3.0           5.2          2.0\n",
      "148           6.2          3.4           5.4          2.3\n",
      "149           5.9          3.0           5.1          1.8\n",
      "\n",
      "[150 rows x 4 columns]\n"
     ]
    }
   ],
   "source": [
    "X = iris_data.iloc[:, :4]\n",
    "print(X)"
   ]
  },
  {
   "cell_type": "code",
   "execution_count": 3,
   "metadata": {},
   "outputs": [],
   "source": [
    "X = np.array(X)\n",
    "#zrobiłem z nagłówków liczby, może tak będzie łatwiej\n",
    "Y_string = np.array(iris_data[\"Class\"])\n",
    "Y = []\n",
    "for i in Y_string:\n",
    "    if(i=='Iris-setosa'):\n",
    "        Y.append(0)\n",
    "    elif(i=='Iris-versicolor'):\n",
    "        Y.append(1);\n",
    "    else:\n",
    "        Y.append(2);"
   ]
  },
  {
   "cell_type": "code",
   "execution_count": 4,
   "metadata": {},
   "outputs": [],
   "source": [
    "import torch\n",
    "#tworzenie modelu\n",
    "\n",
    "input_dimension = 4\n",
    "output_dimension = 3\n",
    "hidden_dimension = 16\n",
    "epochs = 3000\n",
    "\n",
    "loss_function = torch.nn.MSELoss()\n",
    "\n",
    "model = torch.nn.Sequential(\n",
    "torch.nn.Linear(input_dimension, hidden_dimension),\n",
    "torch.nn.ReLU(),\n",
    "torch.nn.Linear(hidden_dimension, output_dimension),\n",
    "torch.nn.Softmax()\n",
    ")\n",
    "\n",
    "optimizer = torch.optim.RMSprop(model.parameters())"
   ]
  },
  {
   "cell_type": "code",
   "execution_count": 5,
   "metadata": {
    "scrolled": true
   },
   "outputs": [
    {
     "name": "stdout",
     "output_type": "stream",
     "text": [
      "[0 0 0 0 0 0 0 0 0 0 0 0 0 0 0 0 0 0 0 0 0 0 0 0 0 0 0 0 0 0 0 0 0 0 0 0 0\n",
      " 0 0 0 1 1 1 1 1 1 1 1 1 1 1 1 1 1 1 1 1 1 1 1 1 1 1 1 1 1 1 1 1 1 1 1 1 1\n",
      " 1 1 1 1 1 1 2 2 2 2 2 2 2 2 2 2 2 2 2 2 2 2 2 2 2 2 2 2 2 2 2 2 2 2 2 2 2\n",
      " 2 2 2 2 2 2 2 2 2]\n",
      "[0 0 0 0 0 0 0 0 0 0 0 0 0 0 0 0 0 0 0 0 0 0 0 0 0 0 0 0 0 0 0 0 0 0 0 0 0\n",
      " 0 0 0 1 1 1 1 1 1 1 1 1 1 1 1 1 1 1 1 1 1 1 1 1 1 1 1 1 1 1 1 1 1 1 1 1 1\n",
      " 1 1 1 1 1 1 2 2 2 2 2 2 2 2 2 2 2 2 2 2 2 2 2 2 2 2 2 2 2 2 2 2 2 2 2 2 2\n",
      " 2 2 2 2 2 2 2 2 2]\n",
      "[[1. 0. 0.]\n",
      " [1. 0. 0.]\n",
      " [1. 0. 0.]\n",
      " [1. 0. 0.]\n",
      " [1. 0. 0.]\n",
      " [1. 0. 0.]\n",
      " [1. 0. 0.]\n",
      " [1. 0. 0.]\n",
      " [1. 0. 0.]\n",
      " [1. 0. 0.]\n",
      " [0. 1. 0.]\n",
      " [0. 1. 0.]\n",
      " [0. 1. 0.]\n",
      " [0. 1. 0.]\n",
      " [0. 1. 0.]\n",
      " [0. 1. 0.]\n",
      " [0. 1. 0.]\n",
      " [0. 1. 0.]\n",
      " [0. 1. 0.]\n",
      " [0. 1. 0.]\n",
      " [0. 0. 1.]\n",
      " [0. 0. 1.]\n",
      " [0. 0. 1.]\n",
      " [0. 0. 1.]\n",
      " [0. 0. 1.]\n",
      " [0. 0. 1.]\n",
      " [0. 0. 1.]\n",
      " [0. 0. 1.]\n",
      " [0. 0. 1.]\n",
      " [0. 0. 1.]]\n"
     ]
    }
   ],
   "source": [
    "#utworzenie danych treningowych\n",
    "x_train = np.concatenate((X[:40], X[50:90], X[100:140]), axis=0)\n",
    "y_train = np.concatenate((Y[:40], Y[50:90], Y[100:140]), axis=0)\n",
    "#utworzenie danych testowych\n",
    "x_test = np.concatenate((X[40:50], X[90:100], X[140:150]), axis=0)\n",
    "y_test = np.concatenate((Y[40:50], Y[90:100], Y[140:150]), axis=0)\n",
    "print(y_train)\n",
    "\n",
    "def to_one_hot(labels, dimension=3):\n",
    "    results = np.zeros((len(labels),dimension))\n",
    "    for i, label in enumerate(labels):\n",
    "        results[i,label] = 1\n",
    "    return results\n",
    "\n",
    "print(y_train)\n",
    "one_hot_train_labels = to_one_hot(y_train)\n",
    "one_hot_test_labels = to_one_hot(y_test)\n",
    "print(one_hot_test_labels)\n",
    "#zamiana na tensory\n",
    "x_train = torch.tensor(x_train).float()\n",
    "y_train = torch.tensor(one_hot_train_labels).float()\n",
    "#zamiana na tensory\n",
    "x_test = torch.tensor(x_test).float()\n",
    "y_test = torch.tensor(one_hot_test_labels).float()\n",
    "                                          "
   ]
  },
  {
   "cell_type": "code",
   "execution_count": 6,
   "metadata": {},
   "outputs": [
    {
     "name": "stderr",
     "output_type": "stream",
     "text": [
      "/home/patryk/anaconda3/lib/python3.7/site-packages/torch/nn/modules/container.py:100: UserWarning: Implicit dimension choice for softmax has been deprecated. Change the call to include dim=X as an argument.\n",
      "  input = module(input)\n"
     ]
    }
   ],
   "source": [
    "history = []\n",
    "#history_val = []\n",
    "#trening modelu\n",
    "for i in range(epochs):\n",
    "    y_pred = model(x_train)\n",
    "    #y_pred_val = model(x_val)\n",
    "    loss = loss_function(y_pred, y_train)\n",
    "    #loss_val = loss_function(y_pred_val, y_val)\n",
    "    \n",
    "    history.append(loss.detach().numpy().squeeze())\n",
    "    #history_val.append(loss_val.detach().numpy().squeeze())\n",
    "    \n",
    "    optimizer.zero_grad()\n",
    "    loss.backward()\n",
    "    \n",
    "    optimizer.step()"
   ]
  },
  {
   "cell_type": "code",
   "execution_count": 7,
   "metadata": {},
   "outputs": [],
   "source": [
    "y_out=model(x_test)"
   ]
  },
  {
   "cell_type": "code",
   "execution_count": 8,
   "metadata": {},
   "outputs": [
    {
     "name": "stdout",
     "output_type": "stream",
     "text": [
      "tensor([[9.9997e-01, 2.5289e-05, 5.8339e-38],\n",
      "        [9.8586e-01, 1.4135e-02, 5.6984e-32],\n",
      "        [9.9995e-01, 5.1865e-05, 3.8648e-35],\n",
      "        [9.9990e-01, 9.8212e-05, 1.1097e-32],\n",
      "        [9.9999e-01, 1.2570e-05, 6.5982e-34],\n",
      "        [9.9961e-01, 3.9260e-04, 9.0672e-35],\n",
      "        [1.0000e+00, 4.6399e-06, 3.6814e-38],\n",
      "        [9.9993e-01, 7.0388e-05, 2.1505e-35],\n",
      "        [9.9999e-01, 9.2880e-06, 1.3724e-39],\n",
      "        [9.9994e-01, 6.0815e-05, 1.1527e-37],\n",
      "        [6.5495e-10, 9.9994e-01, 5.5761e-05],\n",
      "        [1.0628e-09, 9.9997e-01, 2.9161e-05],\n",
      "        [1.1800e-07, 1.0000e+00, 9.9704e-10],\n",
      "        [1.5777e-04, 9.9984e-01, 2.5329e-12],\n",
      "        [7.5795e-09, 1.0000e+00, 3.1354e-06],\n",
      "        [3.4891e-06, 1.0000e+00, 4.4933e-08],\n",
      "        [1.4981e-07, 1.0000e+00, 5.3375e-07],\n",
      "        [5.4151e-08, 1.0000e+00, 5.5831e-09],\n",
      "        [2.2650e-02, 9.7735e-01, 1.8987e-14],\n",
      "        [1.1745e-07, 1.0000e+00, 1.1645e-07],\n",
      "        [1.5368e-25, 4.8881e-03, 9.9511e-01],\n",
      "        [7.1118e-21, 2.5235e-02, 9.7476e-01],\n",
      "        [1.7684e-21, 1.8483e-02, 9.8152e-01],\n",
      "        [3.7440e-26, 4.0887e-03, 9.9591e-01],\n",
      "        [7.9418e-26, 4.4947e-03, 9.9551e-01],\n",
      "        [1.3225e-22, 1.2674e-02, 9.8733e-01],\n",
      "        [1.7962e-21, 1.8144e-02, 9.8186e-01],\n",
      "        [4.9630e-20, 3.7180e-02, 9.6282e-01],\n",
      "        [5.0132e-22, 1.6443e-02, 9.8356e-01],\n",
      "        [1.0729e-17, 1.2928e-01, 8.7072e-01]], grad_fn=<SoftmaxBackward>)\n"
     ]
    }
   ],
   "source": [
    "print(y_out)"
   ]
  },
  {
   "cell_type": "code",
   "execution_count": null,
   "metadata": {},
   "outputs": [],
   "source": []
  },
  {
   "cell_type": "code",
   "execution_count": null,
   "metadata": {},
   "outputs": [],
   "source": []
  },
  {
   "cell_type": "code",
   "execution_count": null,
   "metadata": {},
   "outputs": [],
   "source": []
  },
  {
   "cell_type": "code",
   "execution_count": null,
   "metadata": {},
   "outputs": [],
   "source": []
  }
 ],
 "metadata": {
  "kernelspec": {
   "display_name": "Python 3",
   "language": "python",
   "name": "python3"
  },
  "language_info": {
   "codemirror_mode": {
    "name": "ipython",
    "version": 3
   },
   "file_extension": ".py",
   "mimetype": "text/x-python",
   "name": "python",
   "nbconvert_exporter": "python",
   "pygments_lexer": "ipython3",
   "version": "3.7.6"
  }
 },
 "nbformat": 4,
 "nbformat_minor": 4
}
