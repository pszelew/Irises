{
 "cells": [
  {
   "cell_type": "markdown",
   "metadata": {},
   "source": [
    "The data set contains 3 classes of 50 instances each, where each class refers to a type of iris plant. One class is linearly separable from the other 2; the latter are NOT linearly separable from each other\n",
    "\n",
    "\n",
    "Wczytanie danych przy pomocy \"pandas\""
   ]
  },
  {
   "cell_type": "code",
   "execution_count": 1,
   "metadata": {},
   "outputs": [
    {
     "data": {
      "text/html": [
       "<div>\n",
       "<style scoped>\n",
       "    .dataframe tbody tr th:only-of-type {\n",
       "        vertical-align: middle;\n",
       "    }\n",
       "\n",
       "    .dataframe tbody tr th {\n",
       "        vertical-align: top;\n",
       "    }\n",
       "\n",
       "    .dataframe thead th {\n",
       "        text-align: right;\n",
       "    }\n",
       "</style>\n",
       "<table border=\"1\" class=\"dataframe\">\n",
       "  <thead>\n",
       "    <tr style=\"text-align: right;\">\n",
       "      <th></th>\n",
       "      <th>Sepal Length</th>\n",
       "      <th>Sepal Width</th>\n",
       "      <th>Petal Length</th>\n",
       "      <th>Petal Width</th>\n",
       "      <th>Class</th>\n",
       "    </tr>\n",
       "  </thead>\n",
       "  <tbody>\n",
       "    <tr>\n",
       "      <th>0</th>\n",
       "      <td>5.1</td>\n",
       "      <td>3.5</td>\n",
       "      <td>1.4</td>\n",
       "      <td>0.2</td>\n",
       "      <td>Iris-setosa</td>\n",
       "    </tr>\n",
       "    <tr>\n",
       "      <th>1</th>\n",
       "      <td>4.9</td>\n",
       "      <td>3.0</td>\n",
       "      <td>1.4</td>\n",
       "      <td>0.2</td>\n",
       "      <td>Iris-setosa</td>\n",
       "    </tr>\n",
       "    <tr>\n",
       "      <th>2</th>\n",
       "      <td>4.7</td>\n",
       "      <td>3.2</td>\n",
       "      <td>1.3</td>\n",
       "      <td>0.2</td>\n",
       "      <td>Iris-setosa</td>\n",
       "    </tr>\n",
       "    <tr>\n",
       "      <th>3</th>\n",
       "      <td>4.6</td>\n",
       "      <td>3.1</td>\n",
       "      <td>1.5</td>\n",
       "      <td>0.2</td>\n",
       "      <td>Iris-setosa</td>\n",
       "    </tr>\n",
       "    <tr>\n",
       "      <th>4</th>\n",
       "      <td>5.0</td>\n",
       "      <td>3.6</td>\n",
       "      <td>1.4</td>\n",
       "      <td>0.2</td>\n",
       "      <td>Iris-setosa</td>\n",
       "    </tr>\n",
       "  </tbody>\n",
       "</table>\n",
       "</div>"
      ],
      "text/plain": [
       "   Sepal Length  Sepal Width  Petal Length  Petal Width        Class\n",
       "0           5.1          3.5           1.4          0.2  Iris-setosa\n",
       "1           4.9          3.0           1.4          0.2  Iris-setosa\n",
       "2           4.7          3.2           1.3          0.2  Iris-setosa\n",
       "3           4.6          3.1           1.5          0.2  Iris-setosa\n",
       "4           5.0          3.6           1.4          0.2  Iris-setosa"
      ]
     },
     "execution_count": 1,
     "metadata": {},
     "output_type": "execute_result"
    }
   ],
   "source": [
    "import pandas as pd\n",
    "import matplotlib.pyplot as plt\n",
    "import numpy as np\n",
    "#nazwy kolumn w naszym data_secie\n",
    "columns = [\"Sepal Length\", \"Sepal Width\",\n",
    "           \"Petal Length\", \"Petal Width\",\n",
    "           \"Class\"]\n",
    "#źródło naszych danych\n",
    "src = \"https://archive.ics.uci.edu/ml/machine-learning-databases/iris/iris.data\"\n",
    "#wczytanie danych za pomocą pandy\n",
    "\n",
    "iris_data = pd.read_csv(src, header=None, names=columns)\n",
    "iris_data.head()"
   ]
  },
  {
   "cell_type": "code",
   "execution_count": 2,
   "metadata": {},
   "outputs": [
    {
     "name": "stdout",
     "output_type": "stream",
     "text": [
      "     Sepal Length  Sepal Width  Petal Length  Petal Width\n",
      "0             5.1          3.5           1.4          0.2\n",
      "1             4.9          3.0           1.4          0.2\n",
      "2             4.7          3.2           1.3          0.2\n",
      "3             4.6          3.1           1.5          0.2\n",
      "4             5.0          3.6           1.4          0.2\n",
      "..            ...          ...           ...          ...\n",
      "145           6.7          3.0           5.2          2.3\n",
      "146           6.3          2.5           5.0          1.9\n",
      "147           6.5          3.0           5.2          2.0\n",
      "148           6.2          3.4           5.4          2.3\n",
      "149           5.9          3.0           5.1          1.8\n",
      "\n",
      "[150 rows x 4 columns]\n"
     ]
    }
   ],
   "source": [
    "X = iris_data.iloc[:, :4]\n",
    "print(X)"
   ]
  },
  {
   "cell_type": "code",
   "execution_count": 3,
   "metadata": {},
   "outputs": [],
   "source": [
    "X = np.array(X)\n",
    "#zrobiłem z nagłówków liczby, może tak będzie łatwiej\n",
    "Y_string = np.array(iris_data[\"Class\"])\n",
    "\n",
    "dictionary = {\n",
    "  0: \"Iris-setosa\",\n",
    "  1: \"Iris-versicolor\",\n",
    "  2: \"Iris-virginica\"\n",
    "}\n",
    "\n",
    "Y = []\n",
    "for i in Y_string:\n",
    "    if(i=='Iris-setosa'):\n",
    "        Y.append(0)\n",
    "    elif(i=='Iris-versicolor'):\n",
    "        Y.append(1);\n",
    "    else:\n",
    "        Y.append(2);"
   ]
  },
  {
   "cell_type": "code",
   "execution_count": 4,
   "metadata": {},
   "outputs": [],
   "source": [
    "import torch\n",
    "#tworzenie modelu\n",
    "\n",
    "input_dimension = 4\n",
    "output_dimension = 3\n",
    "hidden_dimension = 16\n",
    "epochs = 3000\n",
    "\n",
    "loss_function = torch.nn.MSELoss()\n",
    "\n",
    "model = torch.nn.Sequential(\n",
    "torch.nn.Linear(input_dimension, hidden_dimension),\n",
    "torch.nn.ReLU(),\n",
    "torch.nn.Linear(hidden_dimension, output_dimension),\n",
    "torch.nn.Softmax()\n",
    ")\n",
    "\n",
    "optimizer = torch.optim.RMSprop(model.parameters())"
   ]
  },
  {
   "cell_type": "code",
   "execution_count": 5,
   "metadata": {
    "scrolled": true
   },
   "outputs": [
    {
     "name": "stdout",
     "output_type": "stream",
     "text": [
      "[0 0 0 0 0 0 0 0 0 0 0 0 0 0 0 0 0 0 0 0 0 0 0 0 0 0 0 0 0 0 0 0 0 0 0 0 0\n",
      " 0 0 0 1 1 1 1 1 1 1 1 1 1 1 1 1 1 1 1 1 1 1 1 1 1 1 1 1 1 1 1 1 1 1 1 1 1\n",
      " 1 1 1 1 1 1 2 2 2 2 2 2 2 2 2 2 2 2 2 2 2 2 2 2 2 2 2 2 2 2 2 2 2 2 2 2 2\n",
      " 2 2 2 2 2 2 2 2 2]\n",
      "[0 0 0 0 0 0 0 0 0 0 0 0 0 0 0 0 0 0 0 0 0 0 0 0 0 0 0 0 0 0 0 0 0 0 0 0 0\n",
      " 0 0 0 1 1 1 1 1 1 1 1 1 1 1 1 1 1 1 1 1 1 1 1 1 1 1 1 1 1 1 1 1 1 1 1 1 1\n",
      " 1 1 1 1 1 1 2 2 2 2 2 2 2 2 2 2 2 2 2 2 2 2 2 2 2 2 2 2 2 2 2 2 2 2 2 2 2\n",
      " 2 2 2 2 2 2 2 2 2]\n",
      "[[1. 0. 0.]\n",
      " [1. 0. 0.]\n",
      " [1. 0. 0.]\n",
      " [1. 0. 0.]\n",
      " [1. 0. 0.]\n",
      " [1. 0. 0.]\n",
      " [1. 0. 0.]\n",
      " [1. 0. 0.]\n",
      " [1. 0. 0.]\n",
      " [1. 0. 0.]\n",
      " [0. 1. 0.]\n",
      " [0. 1. 0.]\n",
      " [0. 1. 0.]\n",
      " [0. 1. 0.]\n",
      " [0. 1. 0.]\n",
      " [0. 1. 0.]\n",
      " [0. 1. 0.]\n",
      " [0. 1. 0.]\n",
      " [0. 1. 0.]\n",
      " [0. 1. 0.]\n",
      " [0. 0. 1.]\n",
      " [0. 0. 1.]\n",
      " [0. 0. 1.]\n",
      " [0. 0. 1.]\n",
      " [0. 0. 1.]\n",
      " [0. 0. 1.]\n",
      " [0. 0. 1.]\n",
      " [0. 0. 1.]\n",
      " [0. 0. 1.]\n",
      " [0. 0. 1.]]\n"
     ]
    }
   ],
   "source": [
    "#utworzenie danych treningowych\n",
    "x_train = np.concatenate((X[:40], X[50:90], X[100:140]), axis=0)\n",
    "y_train = np.concatenate((Y[:40], Y[50:90], Y[100:140]), axis=0)\n",
    "#utworzenie danych testowych\n",
    "x_test = np.concatenate((X[40:50], X[90:100], X[140:150]), axis=0)\n",
    "y_test = np.concatenate((Y[40:50], Y[90:100], Y[140:150]), axis=0)\n",
    "print(y_train)\n",
    "\n",
    "def to_one_hot(labels, dimension=3):\n",
    "    results = np.zeros((len(labels),dimension))\n",
    "    for i, label in enumerate(labels):\n",
    "        results[i,label] = 1\n",
    "    return results\n",
    "\n",
    "print(y_train)\n",
    "one_hot_train_labels = to_one_hot(y_train)\n",
    "one_hot_test_labels = to_one_hot(y_test)\n",
    "print(one_hot_test_labels)\n",
    "#zamiana na tensory\n",
    "x_train = torch.tensor(x_train).float()\n",
    "y_train = torch.tensor(one_hot_train_labels).float()\n",
    "#zamiana na tensory\n",
    "x_test = torch.tensor(x_test).float()\n",
    "y_test = torch.tensor(one_hot_test_labels).float()\n",
    "                                          "
   ]
  },
  {
   "cell_type": "code",
   "execution_count": 6,
   "metadata": {},
   "outputs": [
    {
     "name": "stderr",
     "output_type": "stream",
     "text": [
      "/home/patryk/anaconda3/lib/python3.7/site-packages/torch/nn/modules/container.py:100: UserWarning: Implicit dimension choice for softmax has been deprecated. Change the call to include dim=X as an argument.\n",
      "  input = module(input)\n"
     ]
    }
   ],
   "source": [
    "history = []\n",
    "#history_val = []\n",
    "#trening modelu\n",
    "for i in range(epochs):\n",
    "    y_pred = model(x_train)\n",
    "    #y_pred_val = model(x_val)\n",
    "    loss = loss_function(y_pred, y_train)\n",
    "    #loss_val = loss_function(y_pred_val, y_val)\n",
    "    \n",
    "    history.append(loss.detach().numpy().squeeze())\n",
    "    #history_val.append(loss_val.detach().numpy().squeeze())\n",
    "    \n",
    "    optimizer.zero_grad()\n",
    "    loss.backward()\n",
    "    \n",
    "    optimizer.step()"
   ]
  },
  {
   "cell_type": "code",
   "execution_count": 7,
   "metadata": {},
   "outputs": [],
   "source": [
    "y_out=model(x_test)"
   ]
  },
  {
   "cell_type": "code",
   "execution_count": 8,
   "metadata": {},
   "outputs": [
    {
     "name": "stdout",
     "output_type": "stream",
     "text": [
      "tensor([[1.0000e+00, 4.4940e-08, 4.0240e-09],\n",
      "        [9.9161e-01, 8.3816e-03, 1.0622e-05],\n",
      "        [1.0000e+00, 1.0113e-06, 3.3010e-08],\n",
      "        [1.0000e+00, 3.6014e-06, 1.2017e-07],\n",
      "        [1.0000e+00, 4.9231e-07, 2.6995e-08],\n",
      "        [9.9998e-01, 1.5340e-05, 1.8250e-07],\n",
      "        [1.0000e+00, 1.2071e-08, 1.6327e-09],\n",
      "        [1.0000e+00, 1.6145e-06, 4.1758e-08],\n",
      "        [1.0000e+00, 1.0328e-08, 1.2700e-09],\n",
      "        [1.0000e+00, 3.3298e-07, 1.2550e-08],\n",
      "        [3.0804e-05, 9.9820e-01, 1.7700e-03],\n",
      "        [2.2157e-05, 9.9875e-01, 1.2309e-03],\n",
      "        [6.7502e-07, 9.9997e-01, 2.6021e-05],\n",
      "        [3.4469e-07, 9.9999e-01, 5.4118e-06],\n",
      "        [9.4955e-06, 9.9951e-01, 4.8116e-04],\n",
      "        [6.1170e-07, 9.9998e-01, 2.2120e-05],\n",
      "        [2.7363e-06, 9.9988e-01, 1.1902e-04],\n",
      "        [8.9511e-07, 9.9996e-01, 3.7789e-05],\n",
      "        [1.4403e-05, 9.9996e-01, 2.1107e-05],\n",
      "        [2.0428e-06, 9.9991e-01, 8.8348e-05],\n",
      "        [2.5463e-03, 1.5454e-03, 9.9591e-01],\n",
      "        [5.7723e-03, 1.7988e-02, 9.7624e-01],\n",
      "        [4.9399e-03, 1.0568e-02, 9.8449e-01],\n",
      "        [2.4628e-03, 1.2385e-03, 9.9630e-01],\n",
      "        [2.3518e-03, 8.4288e-04, 9.9681e-01],\n",
      "        [4.3187e-03, 8.2226e-03, 9.8746e-01],\n",
      "        [5.3801e-03, 3.0050e-02, 9.6457e-01],\n",
      "        [6.5665e-03, 2.3688e-02, 9.6975e-01],\n",
      "        [4.2875e-03, 2.4927e-03, 9.9322e-01],\n",
      "        [7.4537e-03, 5.3623e-02, 9.3892e-01]], grad_fn=<SoftmaxBackward>)\n"
     ]
    }
   ],
   "source": [
    "print(y_out)"
   ]
  },
  {
   "cell_type": "code",
   "execution_count": 10,
   "metadata": {},
   "outputs": [
    {
     "name": "stdout",
     "output_type": "stream",
     "text": [
      "Iris-setosa\n",
      "Iris-setosa\n",
      "Iris-setosa\n",
      "Iris-setosa\n",
      "Iris-setosa\n",
      "Iris-setosa\n",
      "Iris-setosa\n",
      "Iris-setosa\n",
      "Iris-setosa\n",
      "Iris-setosa\n",
      "Iris-versicolor\n",
      "Iris-versicolor\n",
      "Iris-versicolor\n",
      "Iris-versicolor\n",
      "Iris-versicolor\n",
      "Iris-versicolor\n",
      "Iris-versicolor\n",
      "Iris-versicolor\n",
      "Iris-versicolor\n",
      "Iris-versicolor\n",
      "Iris-virginica\n",
      "Iris-virginica\n",
      "Iris-virginica\n",
      "Iris-virginica\n",
      "Iris-virginica\n",
      "Iris-virginica\n",
      "Iris-virginica\n",
      "Iris-virginica\n",
      "Iris-virginica\n",
      "Iris-virginica\n"
     ]
    }
   ],
   "source": [
    "for num, i in enumerate(y_out):\n",
    "    if(i[0]>=0.5):\n",
    "        print(f\"Iris-setosa\")\n",
    "    elif(i[1]>=0.5):\n",
    "        print(f\"Iris-versicolor\")\n",
    "    elif(i[2]>=0.5):\n",
    "        print(f\"Iris-virginica\")"
   ]
  },
  {
   "cell_type": "code",
   "execution_count": null,
   "metadata": {},
   "outputs": [],
   "source": []
  },
  {
   "cell_type": "code",
   "execution_count": null,
   "metadata": {},
   "outputs": [],
   "source": []
  },
  {
   "cell_type": "code",
   "execution_count": null,
   "metadata": {},
   "outputs": [],
   "source": []
  }
 ],
 "metadata": {
  "kernelspec": {
   "display_name": "Python 3",
   "language": "python",
   "name": "python3"
  },
  "language_info": {
   "codemirror_mode": {
    "name": "ipython",
    "version": 3
   },
   "file_extension": ".py",
   "mimetype": "text/x-python",
   "name": "python",
   "nbconvert_exporter": "python",
   "pygments_lexer": "ipython3",
   "version": "3.7.6"
  }
 },
 "nbformat": 4,
 "nbformat_minor": 4
}
